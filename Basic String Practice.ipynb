{
 "cells": [
  {
   "cell_type": "code",
   "execution_count": 1,
   "id": "6ef54841",
   "metadata": {},
   "outputs": [
    {
     "name": "stdout",
     "output_type": "stream",
     "text": [
      "Enter your name: Shweta\n",
      "Hello, Shweta!\n"
     ]
    }
   ],
   "source": [
    "##1. take name as input and say hello\n",
    "\n",
    "name = input(\"Enter your name: \")\n",
    "\n",
    "\n",
    "print(\"Hello, \" + name + \"!\")\n"
   ]
  },
  {
   "cell_type": "code",
   "execution_count": 2,
   "id": "9d64a644",
   "metadata": {},
   "outputs": [
    {
     "data": {
      "text/plain": [
       "2"
      ]
     },
     "execution_count": 2,
     "metadata": {},
     "output_type": "execute_result"
    }
   ],
   "source": [
    "# 2. From below string print count of \"Is\".\n",
    "string = \"He is Amol and she is Chaitali\"\n",
    "\n",
    "string.count(\"is\")\n"
   ]
  },
  {
   "cell_type": "code",
   "execution_count": 5,
   "id": "396f0530",
   "metadata": {},
   "outputs": [
    {
     "data": {
      "text/plain": [
       "['Data', 'is', 'new', 'oil']"
      ]
     },
     "execution_count": 5,
     "metadata": {},
     "output_type": "execute_result"
    }
   ],
   "source": [
    "# 3. from below string split the words by space\n",
    "string = \"Data is new oil\"\n",
    "\n",
    "string.split(\" \")"
   ]
  },
  {
   "cell_type": "code",
   "execution_count": 7,
   "id": "d8a5f7a3",
   "metadata": {},
   "outputs": [
    {
     "name": "stdout",
     "output_type": "stream",
     "text": [
      "Data=is=new=oil\n"
     ]
    }
   ],
   "source": [
    "# 4. now from below list, join all words by \"=\" and create a sentence.\n",
    "\n",
    "list_1 = [\"Data\", \"is\", \"new\", \"oil\"]\n",
    "\n",
    "sentence = \"=\".join(list_1)\n",
    "\n",
    "print(sentence)"
   ]
  },
  {
   "cell_type": "code",
   "execution_count": 8,
   "id": "0d643d5b",
   "metadata": {},
   "outputs": [
    {
     "data": {
      "text/plain": [
       "'I love programming in Python.'"
      ]
     },
     "execution_count": 8,
     "metadata": {},
     "output_type": "execute_result"
    }
   ],
   "source": [
    "# 5. from below string replace \"Java\" with \"Python\"\n",
    "sentence = \"I love programming in Java.\"\n",
    "\n",
    "sentence.replace(\"Java\",\"Python\")"
   ]
  },
  {
   "cell_type": "code",
   "execution_count": 9,
   "id": "483c4751",
   "metadata": {},
   "outputs": [
    {
     "data": {
      "text/plain": [
       "'This is a message with spaces.'"
      ]
     },
     "execution_count": 9,
     "metadata": {},
     "output_type": "execute_result"
    }
   ],
   "source": [
    "# 6. from below string remove(strip) additional spaces and print it\n",
    "\n",
    "message = \"   This is a message with spaces.   \"\n",
    "\n",
    "message.strip()"
   ]
  },
  {
   "cell_type": "code",
   "execution_count": 10,
   "id": "b53f55c2",
   "metadata": {},
   "outputs": [
    {
     "data": {
      "text/plain": [
       "10"
      ]
     },
     "execution_count": 10,
     "metadata": {},
     "output_type": "execute_result"
    }
   ],
   "source": [
    "#7. From below string find postion(start index) of \"sample\"\n",
    "\n",
    "sentence = \"This is a sample sentence.\"\n",
    "\n",
    "sentence.index(\"sample\")"
   ]
  },
  {
   "cell_type": "code",
   "execution_count": 14,
   "id": "6a643649",
   "metadata": {},
   "outputs": [
    {
     "data": {
      "text/plain": [
       "14"
      ]
     },
     "execution_count": 14,
     "metadata": {},
     "output_type": "execute_result"
    }
   ],
   "source": [
    "#8. Given the string \"Python is fun!\", how can you calculate and print its length?\n",
    "\n",
    "text = \"Python is fun!\"\n",
    "\n",
    "len(text)"
   ]
  },
  {
   "cell_type": "code",
   "execution_count": 16,
   "id": "0aca7307",
   "metadata": {},
   "outputs": [
    {
     "name": "stdout",
     "output_type": "stream",
     "text": [
      "elppaeniP\n"
     ]
    }
   ],
   "source": [
    "#9. Print below string in reverse order\n",
    "\n",
    "string = \"Pineapple\"\n",
    "\n",
    "print(string[::-1])\n"
   ]
  },
  {
   "cell_type": "code",
   "execution_count": 19,
   "id": "af0767fa",
   "metadata": {},
   "outputs": [
    {
     "data": {
      "text/plain": [
       "'Welcome To Python Programming.'"
      ]
     },
     "execution_count": 19,
     "metadata": {},
     "output_type": "execute_result"
    }
   ],
   "source": [
    "#10. Given the string \"Welcome to Python Programming.\", how can you capitalize the first letter of each word and print the modified string?\n",
    "text = \"Welcome to Python Programming.\"\n",
    "\n",
    "text.title()"
   ]
  },
  {
   "cell_type": "code",
   "execution_count": 20,
   "id": "4f19e2b7",
   "metadata": {},
   "outputs": [
    {
     "data": {
      "text/plain": [
       "'DATA IS NEW OIL'"
      ]
     },
     "execution_count": 20,
     "metadata": {},
     "output_type": "execute_result"
    }
   ],
   "source": [
    "#11. Convert all letter of string to Upper Case\n",
    "\n",
    "text = \"Data is new oil\"\n",
    "\n",
    "text.upper()"
   ]
  },
  {
   "cell_type": "code",
   "execution_count": 21,
   "id": "9158bd13",
   "metadata": {},
   "outputs": [
    {
     "data": {
      "text/plain": [
       "'I am learning python'"
      ]
     },
     "execution_count": 21,
     "metadata": {},
     "output_type": "execute_result"
    }
   ],
   "source": [
    "#12. From below string just convert first lettter of string to upper case\n",
    "\n",
    "text = \"i am learning python\"\n",
    "\n",
    "text.capitalize()"
   ]
  },
  {
   "cell_type": "code",
   "execution_count": 22,
   "id": "2618116c",
   "metadata": {},
   "outputs": [
    {
     "data": {
      "text/plain": [
       "'dAta IS nEw Oil'"
      ]
     },
     "execution_count": 22,
     "metadata": {},
     "output_type": "execute_result"
    }
   ],
   "source": [
    "#13. Convert all uppper case to lower and lower case to upper\n",
    "\n",
    "text = \"DaTA is NeW oIL\"\n",
    "\n",
    "text.swapcase()\n"
   ]
  },
  {
   "cell_type": "code",
   "execution_count": 23,
   "id": "f85ed89c",
   "metadata": {},
   "outputs": [
    {
     "name": "stdout",
     "output_type": "stream",
     "text": [
      "50\n"
     ]
    }
   ],
   "source": [
    "#14. print the addition of below 2 strings\n",
    "\n",
    "a = 20\n",
    "b = 30\n",
    "sum=a+b\n",
    "print(sum)"
   ]
  },
  {
   "cell_type": "code",
   "execution_count": 24,
   "id": "6d0d073d",
   "metadata": {},
   "outputs": [
    {
     "name": "stdout",
     "output_type": "stream",
     "text": [
      "2030\n"
     ]
    }
   ],
   "source": [
    "#15. print the additiono of below 2 strings\n",
    "\n",
    "a = \"20\"\n",
    "b = \"30\"\n",
    "\n",
    "sum=a+b\n",
    "print(sum)"
   ]
  },
  {
   "cell_type": "code",
   "execution_count": null,
   "id": "231d18d4",
   "metadata": {},
   "outputs": [],
   "source": []
  }
 ],
 "metadata": {
  "kernelspec": {
   "display_name": "Python 3 (ipykernel)",
   "language": "python",
   "name": "python3"
  },
  "language_info": {
   "codemirror_mode": {
    "name": "ipython",
    "version": 3
   },
   "file_extension": ".py",
   "mimetype": "text/x-python",
   "name": "python",
   "nbconvert_exporter": "python",
   "pygments_lexer": "ipython3",
   "version": "3.9.13"
  }
 },
 "nbformat": 4,
 "nbformat_minor": 5
}
